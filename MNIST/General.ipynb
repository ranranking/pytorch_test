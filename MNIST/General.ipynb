{
 "cells": [
  {
   "cell_type": "code",
   "execution_count": 3,
   "metadata": {},
   "outputs": [],
   "source": [
    "import numpy as np\n",
    "import matplotlib.pyplot as plt\n",
    "\n",
    "import torch\n",
    "import torch.optim as optim\n",
    "import torch.nn as nn\n",
    "import torch.nn.functional as F\n",
    "import torchvision\n",
    "import torchvision.transforms as transforms\n",
    "\n",
    "%matplotlib inline"
   ]
  },
  {
   "cell_type": "code",
   "execution_count": 16,
   "metadata": {},
   "outputs": [],
   "source": [
    "EPOCHS = 1\n",
    "BATCH_SIZE = 128\n",
    "VAL_STEPS = 5"
   ]
  },
  {
   "cell_type": "code",
   "execution_count": 5,
   "metadata": {},
   "outputs": [],
   "source": [
    "device = torch.device('cuda:0' if torch.cuda.is_available() else 'cpu')"
   ]
  },
  {
   "cell_type": "code",
   "execution_count": 6,
   "metadata": {},
   "outputs": [],
   "source": [
    "def cycle(iterable):\n",
    "    while True:\n",
    "        for x in iterable:\n",
    "            yield x"
   ]
  },
  {
   "cell_type": "code",
   "execution_count": 7,
   "metadata": {},
   "outputs": [],
   "source": [
    "transform = transforms.Compose([transforms.ToTensor()])\n",
    "\n",
    "trainset = torchvision.datasets.MNIST(root='./data', train=True, download=False, transform=transform)\n",
    "trainloader = torch.utils.data.DataLoader(trainset, batch_size=BATCH_SIZE, shuffle=True, num_workers=2)\n",
    "\n",
    "testset = torchvision.datasets.MNIST(root='./data', train=False, download=False, transform=transform)\n",
    "testloader = torch.utils.data.DataLoader(testset, batch_size=BATCH_SIZE, shuffle=False, num_workers=2)\n"
   ]
  },
  {
   "cell_type": "code",
   "execution_count": 8,
   "metadata": {},
   "outputs": [],
   "source": [
    "# def plot_img (img):\n",
    "#     plt.imshow(img.numpy()[0], cmap='gray')\n",
    "    \n",
    "# data_iter = iter(trainloader)\n",
    "# images, labels = data_iter.next()"
   ]
  },
  {
   "cell_type": "code",
   "execution_count": 9,
   "metadata": {},
   "outputs": [],
   "source": [
    "class Net (nn.Module):\n",
    "    \n",
    "    def __init__ (self):\n",
    "        super().__init__()\n",
    "        self.conv1 = nn.Conv2d(in_channels=1, out_channels=32, kernel_size=5, padding=2)\n",
    "        self.conv2 = nn.Conv2d(in_channels=32, out_channels=64, kernel_size=5, padding=2)\n",
    "        self.fc1 = nn.Linear(64*7*7, 1024)\n",
    "        self.fc2 = nn.Linear(1024, 10)\n",
    "        \n",
    "        \n",
    "    def forward (self, x):\n",
    "        \n",
    "        # Conv 1\n",
    "        x = F.max_pool2d(F.relu(self.conv1(x)), 2)\n",
    "        \n",
    "        # Conv2\n",
    "        x = F.max_pool2d(F.relu(self.conv2(x)), 2)\n",
    "        \n",
    "        # Flatten\n",
    "        x = x.view(-1, 64*7*7)\n",
    "        \n",
    "        # Fc1\n",
    "        x = F.relu(self.fc1(x))\n",
    "        \n",
    "        # Fc2\n",
    "        x = self.fc2(x)\n",
    "        \n",
    "        return x\n",
    "        "
   ]
  },
  {
   "cell_type": "code",
   "execution_count": 10,
   "metadata": {},
   "outputs": [],
   "source": [
    "net = Net()"
   ]
  },
  {
   "cell_type": "code",
   "execution_count": 11,
   "metadata": {},
   "outputs": [
    {
     "data": {
      "text/plain": [
       "3136"
      ]
     },
     "execution_count": 11,
     "metadata": {},
     "output_type": "execute_result"
    }
   ],
   "source": [
    "net.fc1.in_features"
   ]
  },
  {
   "cell_type": "code",
   "execution_count": 12,
   "metadata": {},
   "outputs": [],
   "source": [
    "net = Net()\n",
    "\n",
    "net.to(device)\n",
    "\n",
    "net = nn.DataParallel(net)"
   ]
  },
  {
   "cell_type": "code",
   "execution_count": 13,
   "metadata": {},
   "outputs": [],
   "source": [
    "loss_function = nn.CrossEntropyLoss()\n",
    "optimizer = optim.Adam(params=net.parameters(), lr=0.001)"
   ]
  },
  {
   "cell_type": "code",
   "execution_count": 18,
   "metadata": {},
   "outputs": [
    {
     "data": {
      "text/plain": [
       "tensor([ 2,  7,  2,  2,  0,  8,  0,  3,  4,  3,  0,  0,  6,  3,\n",
       "         2,  4,  8,  0,  4,  4,  1,  7,  2,  0,  5,  4,  2,  7,\n",
       "         2,  3,  0,  9,  9,  1,  5,  8,  2,  3,  7,  4,  8,  7,\n",
       "         5,  7,  1,  6,  1,  3,  9,  8,  6,  8,  5,  4,  4,  1,\n",
       "         5,  9,  1,  8,  2,  1,  2,  7,  3,  4,  3,  1,  5,  6,\n",
       "         9,  8,  3,  5,  7,  0,  2,  7,  1,  8,  8,  9,  8,  1,\n",
       "         5,  9,  3,  8,  3,  7,  7,  1,  8,  1,  4,  0], device='cuda:0')"
      ]
     },
     "execution_count": 18,
     "metadata": {},
     "output_type": "execute_result"
    }
   ],
   "source": [
    "preds"
   ]
  },
  {
   "cell_type": "code",
   "execution_count": 17,
   "metadata": {},
   "outputs": [
    {
     "name": "stdout",
     "output_type": "stream",
     "text": [
      "Epoch: 0, Step:    50, Minibatch loss: 0.174, Minibatch accuracy: 0.930\n",
      "Epoch: 0, Step:   100, Minibatch loss: 0.179, Minibatch accuracy: 0.945\n",
      "Validation loss: 0.963\n",
      "Epoch: 0, Step:   150, Minibatch loss: 0.049, Minibatch accuracy: 0.984\n",
      "Epoch: 0, Step:   200, Minibatch loss: 0.082, Minibatch accuracy: 0.977\n",
      "Validation loss: 0.970\n",
      "Epoch: 0, Step:   250, Minibatch loss: 0.136, Minibatch accuracy: 0.961\n",
      "Epoch: 0, Step:   300, Minibatch loss: 0.093, Minibatch accuracy: 0.961\n",
      "Validation loss: 0.975\n",
      "Epoch: 0, Step:   350, Minibatch loss: 0.071, Minibatch accuracy: 0.969\n",
      "Epoch: 0, Step:   400, Minibatch loss: 0.014, Minibatch accuracy: 1.000\n",
      "Validation loss: 0.978\n",
      "Epoch: 0, Step:   450, Minibatch loss: 0.020, Minibatch accuracy: 0.992\n"
     ]
    }
   ],
   "source": [
    "step = 0\n",
    "val_iterator = iter(cycle(testloader))\n",
    "\n",
    "for epoch in range(EPOCHS):\n",
    "    \n",
    "    for data in trainloader:\n",
    "        \n",
    "        net.train()\n",
    "        \n",
    "        x, y = data\n",
    "        \n",
    "        x, y = x.to(device), y.to(device)\n",
    "        \n",
    "        optimizer.zero_grad()\n",
    "        \n",
    "        logits = net(x)\n",
    "        \n",
    "        loss = loss_function(logits, y)\n",
    "        \n",
    "        loss.backward()\n",
    "        \n",
    "        optimizer.step()\n",
    "        \n",
    "        step += 1\n",
    "        \n",
    "        _, preds = torch.max(logits, 1)\n",
    "        \n",
    "        correct = (preds == y).sum().item()\n",
    "        \n",
    "        accuracy = correct/BATCH_SIZE\n",
    "        \n",
    "        if step % 50 == 0:\n",
    "            print('Epoch: %d, Step: %5d, Minibatch loss: %.3f, Minibatch accuracy: %.3f' % \n",
    "                  (epoch, step, loss, accuracy))\n",
    "        \n",
    "        if step % 100 == 0:\n",
    "            \n",
    "            net.eval()\n",
    "            \n",
    "            val_acc = 0\n",
    "            \n",
    "            with torch.no_grad():\n",
    "                for s in range(VAL_STEPS):\n",
    "                    val_x, val_y = next(val_iterator)\n",
    "                    \n",
    "                    val_x, val_y = val_x.to(device), val_y.to(device)\n",
    "                    \n",
    "                    val_logits = net(val_x)\n",
    "                    _, val_preds = torch.max(val_logits, 1)\n",
    "\n",
    "                    val_correct = (val_preds == val_y).sum().item()\n",
    "                    \n",
    "                    val_acc += val_correct / BATCH_SIZE\n",
    "            \n",
    "            print('Validation loss: %.3f' % (val_acc / VAL_STEPS))"
   ]
  },
  {
   "cell_type": "code",
   "execution_count": 17,
   "metadata": {},
   "outputs": [
    {
     "name": "stdout",
     "output_type": "stream",
     "text": [
      "0.9852\n"
     ]
    }
   ],
   "source": [
    "# Testing\n",
    "\n",
    "correct = 0\n",
    "total = 0\n",
    "\n",
    "with torch.no_grad():\n",
    "    for data in testloader:\n",
    "        images, labels = data\n",
    "        logits = net(images)\n",
    "        _, predictions = torch.max(logits, 1)\n",
    "        total += labels.shape[0]\n",
    "        correct += (predictions == labels).sum().item()\n",
    "        \n",
    "print(correct/total)"
   ]
  },
  {
   "cell_type": "code",
   "execution_count": 16,
   "metadata": {},
   "outputs": [
    {
     "data": {
      "text/plain": [
       "128"
      ]
     },
     "execution_count": 16,
     "metadata": {},
     "output_type": "execute_result"
    }
   ],
   "source": [
    "labels.shape[0]"
   ]
  },
  {
   "cell_type": "code",
   "execution_count": null,
   "metadata": {},
   "outputs": [],
   "source": []
  },
  {
   "cell_type": "code",
   "execution_count": null,
   "metadata": {},
   "outputs": [],
   "source": []
  },
  {
   "cell_type": "markdown",
   "metadata": {},
   "source": [
    "$(A \\times 1 \\times B \\times C \\times 1 \\times D)$\n",
    "$(A \\times B \\times C \\times D)$"
   ]
  }
 ],
 "metadata": {
  "kernelspec": {
   "display_name": "Python 3",
   "language": "python",
   "name": "python3"
  },
  "language_info": {
   "codemirror_mode": {
    "name": "ipython",
    "version": 3
   },
   "file_extension": ".py",
   "mimetype": "text/x-python",
   "name": "python",
   "nbconvert_exporter": "python",
   "pygments_lexer": "ipython3",
   "version": "3.6.5"
  }
 },
 "nbformat": 4,
 "nbformat_minor": 2
}
