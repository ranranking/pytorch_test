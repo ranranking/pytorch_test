{
 "cells": [
  {
   "cell_type": "code",
   "execution_count": 1,
   "metadata": {},
   "outputs": [],
   "source": [
    "import torch\n",
    "import torch.nn as nn\n",
    "import torch.optim as optim\n",
    "from torch.optim import lr_scheduler\n",
    "import numpy as np\n",
    "import torchvision\n",
    "from torchvision import datasets, models, transforms\n",
    "import matplotlib.pyplot as plt\n",
    "import os\n",
    "import pandas as pd\n",
    "import copy\n",
    "import argparse\n",
    "from PIL import Image\n",
    "from util import *"
   ]
  },
  {
   "cell_type": "code",
   "execution_count": 3,
   "metadata": {},
   "outputs": [],
   "source": [
    "LOG_DIR = './log'\n",
    "DATASET = 'plain'\n",
    "MODEL_ID = 'plain_label_shuffling_test'\n",
    "DATALOADER_WORKERS = 4\n",
    "LEARNING_RATE = 0.01\n",
    "LR_DECAY_FACTOR = 0.1\n",
    "LR_DECAY_EPOCHS = 30\n",
    "DROPOUT = True\n",
    "DROPOUT_RATE = 0.5\n",
    "FC_ADD_DIM = 4096\n",
    "MOMENTUM = 0.9\n",
    "EPOCHS = 100\n",
    "BATCH_SIZE = 256 \n",
    "DISPLAY_STEP = 10\n",
    "NUM_CLASSES = 397\n",
    "CAFFE_WEIGHTS = True\n",
    "BIAS = True\n",
    "\n",
    "if not os.path.isdir(LOG_DIR):\n",
    "    os.makedirs(LOG_DIR)\n",
    "    \n",
    "device = torch.device('cuda:0' if torch.cuda.is_available() else 'cpu')"
   ]
  },
  {
   "cell_type": "code",
   "execution_count": null,
   "metadata": {},
   "outputs": [],
   "source": []
  },
  {
   "cell_type": "code",
   "execution_count": null,
   "metadata": {},
   "outputs": [],
   "source": [
    "class sun_dataset (torch.utils.data.Dataset):\n",
    "    \n",
    "    def __init__ (self, txt_file, transform=None):\n",
    "        super().__init__()\n",
    "        self.df = pd.read_csv(txt_file, header=None, sep=' ')\n",
    "        self.transform = transform\n",
    "        print('Loading from %s' % txt_file)\n",
    "        \n",
    "    def __len__ (self):\n",
    "        return len(self.df)\n",
    "    \n",
    "    def __getitem__ (self, idx):\n",
    "        \n",
    "        image = Image.open(self.df.iloc[idx, 0])\n",
    "        label = self.df.iloc[idx, 1] - 1\n",
    "        \n",
    "        if self.transform:\n",
    "            image = self.transform(image)\n",
    "            \n",
    "        return image, label\n"
   ]
  },
  {
   "cell_type": "code",
   "execution_count": null,
   "metadata": {},
   "outputs": [],
   "source": []
  },
  {
   "cell_type": "code",
   "execution_count": null,
   "metadata": {},
   "outputs": [],
   "source": []
  },
  {
   "cell_type": "code",
   "execution_count": null,
   "metadata": {},
   "outputs": [],
   "source": []
  },
  {
   "cell_type": "code",
   "execution_count": 140,
   "metadata": {},
   "outputs": [],
   "source": [
    "class dataset_test (torch.utils.data.Dataset):\n",
    "    \n",
    "    def __init__ (self, txt_file):\n",
    "        super().__init__()\n",
    "        self.df = pd.read_csv(txt_file, header=None, sep=' ')\n",
    "        print('Loading from %s' % txt_file)\n",
    "        \n",
    "    def __len__ (self):\n",
    "        return len(self.df)\n",
    "    \n",
    "    def __getitem__ (self, idx):\n",
    "        \n",
    "        image = self.df.iloc[idx, 0]\n",
    "        label = self.df.iloc[idx, 1] - 1\n",
    "            \n",
    "        return image, label"
   ]
  },
  {
   "cell_type": "code",
   "execution_count": 159,
   "metadata": {},
   "outputs": [],
   "source": [
    "# partly implemented by frombeijingwithlove\n",
    "\n",
    "from torch.utils.data.sampler import Sampler\n",
    "import random\n",
    "\n",
    "class RandomCycleIter:\n",
    "    \n",
    "    def __init__ (self, data):\n",
    "        self.data_list = list(data)\n",
    "        self.length = len(self.data_list)\n",
    "        self.i = self.length - 1\n",
    "        \n",
    "    def __iter__ (self):\n",
    "        return self\n",
    "    \n",
    "    def __next__ (self):\n",
    "        self.i += 1\n",
    "        \n",
    "        if self.i == self.length:\n",
    "            self.i = 0\n",
    "            random.shuffle(self.data_list)\n",
    "            \n",
    "        return self.data_list[self.i]\n",
    "    \n",
    "def class_aware_sample_generator (cls_iter, data_iter_list, n):\n",
    "    \n",
    "    i = 0\n",
    "    \n",
    "    while i < n:\n",
    "        yield next(data_iter_list[next(cls_iter)])\n",
    "        i += 1\n",
    "        \n",
    "class ClassAwareSampler (Sampler):\n",
    "    \n",
    "    def __init__ (self, data_source, num_classes, num_samples=0):\n",
    "        \n",
    "        self.data_source = data_source\n",
    "        self.class_iter = RandomCycleIter(range(num_classes))\n",
    "        class_data_list = [[] for _ in range(num_classes)]\n",
    "        \n",
    "        for idx, row in self.data_source.df.iterrows():\n",
    "            class_data_list[row[1] - 1].append(idx) \n",
    "            \n",
    "        self.data_iter_list = [RandomCycleIter(x) for x in class_data_list]\n",
    "        \n",
    "        self.num_samples = max([len(x) for x in class_data_list]) * len(class_data_list)\n",
    "        \n",
    "    def __iter__ (self):\n",
    "        return class_aware_sample_generator(self.class_iter, self.data_iter_list, self.num_samples)\n",
    "    \n",
    "    def __len__ (self):\n",
    "        return self.num_samples\n",
    "        \n",
    "        \n",
    "        "
   ]
  },
  {
   "cell_type": "code",
   "execution_count": 185,
   "metadata": {},
   "outputs": [
    {
     "name": "stdout",
     "output_type": "stream",
     "text": [
      "Loading from ./small_test.txt\n"
     ]
    }
   ],
   "source": [
    "dataset = dataset_test(txt_file='./small_test.txt')"
   ]
  },
  {
   "cell_type": "code",
   "execution_count": 187,
   "metadata": {},
   "outputs": [],
   "source": [
    "dataloader = torch.utils.data.DataLoader(dataset, batch_size=3, shuffle=False, sampler=ClassAwareSampler(dataset, 4))"
   ]
  },
  {
   "cell_type": "code",
   "execution_count": 188,
   "metadata": {},
   "outputs": [
    {
     "name": "stdout",
     "output_type": "stream",
     "text": [
      "('1-4', '4-1', '2-4') tensor([ 0,  3,  1])\n",
      "('3-2', '1-1', '3-1') tensor([ 2,  0,  2])\n",
      "('2-1', '4-2', '2-2') tensor([ 1,  3,  1])\n",
      "('4-1', '3-1', '1-6') tensor([ 3,  2,  0])\n",
      "('2-3', '4-1', '3-2') tensor([ 1,  3,  2])\n",
      "('1-7', '3-2', '2-5') tensor([ 0,  2,  1])\n",
      "('1-8', '4-1', '2-5') tensor([ 0,  3,  1])\n",
      "('1-2', '3-1', '4-2') tensor([ 0,  2,  3])\n",
      "('3-2', '4-2', '1-9') tensor([ 2,  3,  0])\n",
      "('2-3', '1-5', '4-1') tensor([ 1,  0,  3])\n",
      "('2-4', '3-1', '4-1') tensor([ 1,  2,  3])\n",
      "('3-2', '1-3', '2-1') tensor([ 2,  0,  1])\n"
     ]
    }
   ],
   "source": [
    "for x, y in dataloader:\n",
    "    print(x, y)"
   ]
  },
  {
   "cell_type": "code",
   "execution_count": null,
   "metadata": {},
   "outputs": [],
   "source": []
  },
  {
   "cell_type": "code",
   "execution_count": 189,
   "metadata": {},
   "outputs": [],
   "source": [
    "a = {'a': 1, 'b': 2}"
   ]
  },
  {
   "cell_type": "code",
   "execution_count": 190,
   "metadata": {},
   "outputs": [
    {
     "data": {
      "text/plain": [
       "{'a': 1, 'b': 2}"
      ]
     },
     "execution_count": 190,
     "metadata": {},
     "output_type": "execute_result"
    }
   ],
   "source": [
    "a"
   ]
  },
  {
   "cell_type": "code",
   "execution_count": null,
   "metadata": {},
   "outputs": [],
   "source": []
  }
 ],
 "metadata": {
  "kernelspec": {
   "display_name": "Python 3",
   "language": "python",
   "name": "python3"
  },
  "language_info": {
   "codemirror_mode": {
    "name": "ipython",
    "version": 3
   },
   "file_extension": ".py",
   "mimetype": "text/x-python",
   "name": "python",
   "nbconvert_exporter": "python",
   "pygments_lexer": "ipython3",
   "version": "3.6.5"
  }
 },
 "nbformat": 4,
 "nbformat_minor": 2
}
