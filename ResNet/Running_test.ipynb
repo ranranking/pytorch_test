{
 "cells": [
  {
   "cell_type": "code",
   "execution_count": 5,
   "metadata": {},
   "outputs": [],
   "source": [
    "import torch\n",
    "import torch.nn as nn\n",
    "import torch.optim as optim\n",
    "from torch.optim import lr_scheduler\n",
    "import numpy as np\n",
    "import torchvision\n",
    "from torchvision import datasets, models, transforms\n",
    "import matplotlib.pyplot as plt\n",
    "import os\n",
    "import pandas as pd\n",
    "import copy\n",
    "from PIL import Image\n",
    "%matplotlib inline"
   ]
  },
  {
   "cell_type": "code",
   "execution_count": 6,
   "metadata": {},
   "outputs": [],
   "source": [
    "tr = pd.read_csv('./sun397_train_lt.txt', header=None, sep=' ')"
   ]
  },
  {
   "cell_type": "code",
   "execution_count": 7,
   "metadata": {},
   "outputs": [],
   "source": [
    "class_names = {}"
   ]
  },
  {
   "cell_type": "code",
   "execution_count": 8,
   "metadata": {},
   "outputs": [],
   "source": [
    "for lab in tr[1].unique():\n",
    "    temp = tr.loc[tr[1] == lab].iloc[0, 0]\n",
    "    class_name = temp.split('/')[-2]\n",
    "    class_names[lab] = class_name"
   ]
  },
  {
   "cell_type": "code",
   "execution_count": 9,
   "metadata": {},
   "outputs": [],
   "source": [
    "device = torch.device('cuda:0' if torch.cuda.is_available() else 'cpu')"
   ]
  },
  {
   "cell_type": "code",
   "execution_count": 10,
   "metadata": {},
   "outputs": [],
   "source": [
    "#  device = torch.device('cpu')"
   ]
  },
  {
   "cell_type": "code",
   "execution_count": 11,
   "metadata": {},
   "outputs": [],
   "source": [
    "class sun_dataset (torch.utils.data.Dataset):\n",
    "    \n",
    "    def __init__ (self, txt_file, transform=None):\n",
    "        super().__init__()\n",
    "        self.df = pd.read_csv(txt_file, header=None, sep=' ')\n",
    "        self.transform = transform\n",
    "        print('Loading from %s' % txt_file)\n",
    "        \n",
    "    def __len__ (self):\n",
    "        return len(self.df)\n",
    "    \n",
    "    def __getitem__ (self, idx):\n",
    "        \n",
    "        image = Image.open(self.df.iloc[idx, 0])\n",
    "        label = self.df.iloc[idx, 1] - 1\n",
    "        \n",
    "        if self.transform:\n",
    "            image = self.transform(image)\n",
    "            \n",
    "        return image, label\n",
    "\n",
    "def train_model (model, dataloaders, dataset_sizes, batch_size, num_classes, loss_function, \n",
    "                 optimizer, scheduler, num_epochs, device, display_step, log_dir, model_id=None):\n",
    "    \n",
    "    # Deep copy model weights\n",
    "    best_model_weights = copy.deepcopy(model.state_dict())\n",
    "    best_acc = 0.0\n",
    "    \n",
    "    # Start training\n",
    "    training_step = 0\n",
    "    for epoch in range(num_epochs):\n",
    "          \n",
    "        # Loop over training phase and validation phase\n",
    "        for phase in ['train', 'val']:\n",
    "            \n",
    "            # Set model modes and set scheduler\n",
    "            if phase == 'train':\n",
    "                scheduler.step()\n",
    "                model.train()\n",
    "            else:\n",
    "                model.eval()\n",
    "                \n",
    "            running_loss = 0.0\n",
    "            running_correct_total = 0\n",
    "            \n",
    "            class_correct = torch.tensor([0. for i in range(num_classes)])\n",
    "            class_total = torch.tensor([0. for i in range(num_classes)])\n",
    "            \n",
    "            # Iterate over data\n",
    "            for inputs, labels in dataloaders[phase]:\n",
    "                \n",
    "                inputs, labels = inputs.to(device), labels.to(device)\n",
    "                \n",
    "                # Zero parameter gradients\n",
    "                optimizer.zero_grad()\n",
    "                \n",
    "                # Forward\n",
    "                # If on training phase, enable gradients\n",
    "                with torch.set_grad_enabled(phase == 'train'):\n",
    "                    \n",
    "                    logits = model(inputs)\n",
    "                    _, preds = torch.max(logits, 1)\n",
    "                    loss = loss_function(logits, labels)\n",
    "                    \n",
    "                    # Backward if training\n",
    "                    if phase == 'train':\n",
    "                        loss.backward()\n",
    "                        optimizer.step()\n",
    "                        training_step += 1\n",
    "                        \n",
    "                        if training_step % display_step == 0:\n",
    "                            minibatch_loss = loss.item()\n",
    "                            minibatch_acc = (preds == labels).sum().item() / batch_size\n",
    "                            print('Epoch: %d, Step: %5d, Minibatch_loss: %.3f, Minibatch_accuracy_micro: %.3f' \n",
    "                                  % (epoch, training_step, minibatch_loss, minibatch_acc))\n",
    "                        \n",
    "                # Record loss and correct predictions\n",
    "                correct_tensor = (preds == labels).squeeze()\n",
    "                running_loss += loss.item() * inputs.shape[0]\n",
    "                running_correct_total += correct_tensor.sum().item()\n",
    "                \n",
    "                for i in range(len(labels)):\n",
    "                    label = labels[i]\n",
    "                    class_correct[label] += correct_tensor[i].item()\n",
    "                    class_total[label] += 1\n",
    "                \n",
    "            # Epoch loss and accuracieds\n",
    "            epoch_loss = running_loss / dataset_sizes[phase]\n",
    "            epoch_acc_mic = running_correct_total / dataset_sizes[phase]\n",
    "            epoch_acc_mac = (class_correct / class_total).mean().item()\n",
    "            \n",
    "            print('Epoch: %d, Phase: %s, Epoch_loss: %.3f, Epoch_accuracy_micro: %.3f, Epoch_accuracy_macro: %.3f' \n",
    "                  % (epoch, phase, epoch_loss, epoch_acc_mic, epoch_acc_mac))\n",
    "            \n",
    "            # Deep copy the best model weights\n",
    "            if phase == 'val' and epoch_acc_mic > best_acc:\n",
    "                best_acc = epoch_acc_mic\n",
    "                best_model_weights = copy.deepcopy(model.state_dict())\n",
    "                \n",
    "    print()\n",
    "    print('Training Complete.')\n",
    "    print('Best validation accuracy: %.3f' % best_acc)\n",
    "    \n",
    "    # Load the best model weights\n",
    "    model.load_state_dict(best_model_weights)\n",
    "    \n",
    "    # Save the best model\n",
    "    model_states = {'epoch': epoch + 1,\n",
    "                    'state_dict': model.state_dict(),\n",
    "                    'best_acc': best_acc,\n",
    "                    'optimizer' : optimizer.state_dict()}\n",
    "    \n",
    "    torch.save(model_states, os.path.join(log_dir, 'model_%s_checkpoint.pth.tar' % model_id))\n",
    "    \n",
    "    return model\n",
    "\n",
    "class MyResNet (nn.Module):\n",
    "    \n",
    "    def __init__ (self, pretrained_resnet, num_classes, drop_rate):\n",
    "        super().__init__()\n",
    "        self.pretrained_resnet = pretrained_resnet\n",
    "        \n",
    "        # Reset the fc layer\n",
    "        self.num_features = self.pretrained_resnet.fc.in_features\n",
    "        \n",
    "        self.fc_add = nn.Linear(self.num_features, 4096)\n",
    "        self.dropout = nn.Dropout(p=drop_rate)\n",
    "        self.fc = nn.Linear(4096, num_classes)\n",
    "        \n",
    "    def forward(self, x):\n",
    "        x = self.pretrained_resnet.conv1(x)\n",
    "        x = self.pretrained_resnet.bn1(x)\n",
    "        x = self.pretrained_resnet.relu(x)\n",
    "        x = self.pretrained_resnet.maxpool(x)\n",
    "\n",
    "        x = self.pretrained_resnet.layer1(x)\n",
    "        x = self.pretrained_resnet.layer2(x)\n",
    "        x = self.pretrained_resnet.layer3(x)\n",
    "        x = self.pretrained_resnet.layer4(x)\n",
    "\n",
    "        x = self.pretrained_resnet.avgpool(x)\n",
    "        x = x.view(x.size(0), -1)\n",
    "        \n",
    "        x = self.fc_add(x)\n",
    "        x = self.dropout(x)\n",
    "        x = self.fc(x)\n",
    "\n",
    "        return x"
   ]
  },
  {
   "cell_type": "code",
   "execution_count": 16,
   "metadata": {},
   "outputs": [],
   "source": [
    "LOG_DIR = './log'\n",
    "DATASET = 'plain'\n",
    "MODEL_ID = 'test_dropout'\n",
    "DATALOADER_WORKERS = 4\n",
    "LEARNING_RATE = 0.01\n",
    "LR_DECAY_FACTOR = 0.1\n",
    "LR_DECAY_EPOCHS = 10\n",
    "DROPOUT = True\n",
    "DROPOUT_RATE = 0.5\n",
    "MOMENTUM = 0.9\n",
    "EPOCHS = 1\n",
    "BATCH_SIZE = 256\n",
    "DISPLAY_STEP = 10\n",
    "NUM_CLASSES = 397\n",
    "\n",
    "if not os.path.isdir(LOG_DIR):\n",
    "    os.makedirs(LOG_DIR)"
   ]
  },
  {
   "cell_type": "code",
   "execution_count": 17,
   "metadata": {},
   "outputs": [
    {
     "name": "stdout",
     "output_type": "stream",
     "text": [
      "Loading from ./sun397_train_lt.txt\n",
      "Loading from ./sun397_val_lt.txt\n"
     ]
    }
   ],
   "source": [
    "# transforms.RandomResizeCrop(224)\n",
    "data_transforms = {\n",
    "    'train': transforms.Compose([\n",
    "        transforms.RandomCrop(224),\n",
    "        transforms.RandomHorizontalFlip(),\n",
    "        transforms.ToTensor(),\n",
    "        transforms.Normalize([0.485, 0.456, 0.406], [0.229, 0.224, 0.225])\n",
    "    ]),\n",
    "    'val': transforms.Compose([\n",
    "        transforms.CenterCrop(224),\n",
    "        transforms.ToTensor(),\n",
    "        transforms.Normalize([0.485, 0.456, 0.406], [0.229, 0.224, 0.225])\n",
    "    ])\n",
    "}\n",
    "\n",
    "datasets = {x: sun_dataset(txt_file='./sun397_%s_lt.txt' % x, transform=data_transforms[x]) for x in ['train', 'val']} \n",
    "dataloaders = {x: torch.utils.data.DataLoader(datasets[x], batch_size=BATCH_SIZE, shuffle=True, num_workers=DATALOADER_WORKERS) for x in ['train', 'val']}\n",
    "dataset_sizes = {x: len(datasets[x]) for x in ['train', 'val']}"
   ]
  },
  {
   "cell_type": "code",
   "execution_count": 18,
   "metadata": {},
   "outputs": [],
   "source": [
    "# Load pretrained model\n",
    "resnet = torchvision.models.resnet152(pretrained=True)\n",
    "# Freeze all layers\n",
    "for param in resnet.parameters():\n",
    "    param.requires_grad = False"
   ]
  },
  {
   "cell_type": "code",
   "execution_count": 19,
   "metadata": {},
   "outputs": [
    {
     "name": "stdout",
     "output_type": "stream",
     "text": [
      "Model using dropout.\n"
     ]
    }
   ],
   "source": [
    "if DROPOUT:\n",
    "    print('Model using dropout.')\n",
    "    resnet = MyResNet(resnet, NUM_CLASSES, DROPOUT_RATE)\n",
    "    # Optimizer only on the last fc layers\n",
    "    optimizer = optim.SGD(list(resnet.fc.parameters()) + list(resnet.fc_add.parameters()), lr=LEARNING_RATE, momentum=MOMENTUM)\n",
    "else:\n",
    "    print('Model not using dropout.')\n",
    "    # Reset the fc layer\n",
    "    num_features = resnet.fc.in_features\n",
    "    resnet.fc = nn.Linear(num_features, NUM_CLASSES)\n",
    "    # Optimizer only on the last fc layers\n",
    "    optimizer = optim.SGD(list(resnet.fc.parameters()), lr=LEARNING_RATE, momentum=MOMENTUM)"
   ]
  },
  {
   "cell_type": "code",
   "execution_count": 20,
   "metadata": {},
   "outputs": [],
   "source": [
    "resnet = resnet.to(device)\n",
    "\n",
    "# Loss function\n",
    "loss_function = nn.CrossEntropyLoss()\n",
    "\n",
    "# Decay LR by a factor of 0.1 every 30 epochs\n",
    "exp_lr_scheduler = lr_scheduler.StepLR(optimizer, step_size=30, gamma=0.1)"
   ]
  },
  {
   "cell_type": "code",
   "execution_count": 22,
   "metadata": {},
   "outputs": [],
   "source": [
    "# resnet = train_model(model=resnet, loss_function=loss_function, optimizer=optimizer, scheduler=exp_lr_scheduler, num_epochs=EPOCHS, model_id='plain')"
   ]
  },
  {
   "cell_type": "code",
   "execution_count": 23,
   "metadata": {},
   "outputs": [
    {
     "name": "stdout",
     "output_type": "stream",
     "text": [
      "Epoch: 0, Step:    10, Minibatch_loss: 5.357, Minibatch_accuracy_micro: 0.035\n",
      "Epoch: 0, Step:    20, Minibatch_loss: 4.811, Minibatch_accuracy_micro: 0.141\n",
      "Epoch: 0, Step:    30, Minibatch_loss: 4.388, Minibatch_accuracy_micro: 0.238\n",
      "Epoch: 0, Step:    40, Minibatch_loss: 4.291, Minibatch_accuracy_micro: 0.234\n",
      "Epoch: 0, Step:    50, Minibatch_loss: 3.760, Minibatch_accuracy_micro: 0.336\n",
      "Epoch: 0, Step:    60, Minibatch_loss: 3.765, Minibatch_accuracy_micro: 0.324\n",
      "Epoch: 0, Step:    70, Minibatch_loss: 3.594, Minibatch_accuracy_micro: 0.320\n",
      "Epoch: 0, Step:    80, Minibatch_loss: 3.282, Minibatch_accuracy_micro: 0.340\n",
      "Epoch: 0, Step:    90, Minibatch_loss: 3.135, Minibatch_accuracy_micro: 0.402\n",
      "Epoch: 0, Step:   100, Minibatch_loss: 3.098, Minibatch_accuracy_micro: 0.398\n",
      "Epoch: 0, Step:   110, Minibatch_loss: 2.939, Minibatch_accuracy_micro: 0.461\n",
      "Epoch: 0, Step:   120, Minibatch_loss: 2.859, Minibatch_accuracy_micro: 0.418\n",
      "Epoch: 0, Step:   130, Minibatch_loss: 2.870, Minibatch_accuracy_micro: 0.410\n",
      "Epoch: 0, Phase: train, Epoch_loss: 3.772, Epoch_accuracy_micro: 0.309, Epoch_accuracy_macro: 0.087\n",
      "Epoch: 0, Phase: val, Epoch_loss: 2.690, Epoch_accuracy_micro: 0.466, Epoch_accuracy_macro: 0.170\n",
      "\n",
      "Training Complete.\n",
      "Best validation accuracy: 0.466\n"
     ]
    }
   ],
   "source": [
    "resnet = train_model(model=resnet, dataloaders=dataloaders, batch_size=BATCH_SIZE,\n",
    "                     dataset_sizes=dataset_sizes, num_classes=NUM_CLASSES, loss_function=loss_function, \n",
    "                     optimizer=optimizer, scheduler=exp_lr_scheduler, \n",
    "                     device=device, num_epochs=EPOCHS, display_step=DISPLAY_STEP,\n",
    "                     log_dir=LOG_DIR, model_id=MODEL_ID)"
   ]
  },
  {
   "cell_type": "code",
   "execution_count": null,
   "metadata": {},
   "outputs": [],
   "source": []
  },
  {
   "cell_type": "code",
   "execution_count": null,
   "metadata": {},
   "outputs": [],
   "source": []
  },
  {
   "cell_type": "code",
   "execution_count": null,
   "metadata": {},
   "outputs": [],
   "source": []
  },
  {
   "cell_type": "code",
   "execution_count": null,
   "metadata": {},
   "outputs": [],
   "source": []
  },
  {
   "cell_type": "markdown",
   "metadata": {},
   "source": [
    "# Dropout test"
   ]
  },
  {
   "cell_type": "code",
   "execution_count": 3,
   "metadata": {},
   "outputs": [],
   "source": [
    "class test_net (nn.Module):\n",
    "    \n",
    "    def __init__ (self):\n",
    "        super().__init__()\n",
    "        self.dropout = nn.Dropout(0.5)\n",
    "    \n",
    "    def forward(self, x):\n",
    "        x = self.dropout(x)\n",
    "        return x"
   ]
  },
  {
   "cell_type": "code",
   "execution_count": 9,
   "metadata": {},
   "outputs": [],
   "source": [
    "net = test_net()"
   ]
  },
  {
   "cell_type": "code",
   "execution_count": 10,
   "metadata": {},
   "outputs": [],
   "source": [
    "x = torch.randn(5, 2)"
   ]
  },
  {
   "cell_type": "code",
   "execution_count": 21,
   "metadata": {},
   "outputs": [
    {
     "data": {
      "text/plain": [
       "tensor([[ 0.3013, -0.4943],\n",
       "        [ 1.2686,  0.4310],\n",
       "        [-0.3772,  2.0747],\n",
       "        [-0.6059, -0.7574],\n",
       "        [ 1.3811,  0.0971]])"
      ]
     },
     "execution_count": 21,
     "metadata": {},
     "output_type": "execute_result"
    }
   ],
   "source": [
    "x"
   ]
  },
  {
   "cell_type": "code",
   "execution_count": 28,
   "metadata": {},
   "outputs": [
    {
     "data": {
      "text/plain": [
       "test_net(\n",
       "  (dropout): Dropout(p=0.5)\n",
       ")"
      ]
     },
     "execution_count": 28,
     "metadata": {},
     "output_type": "execute_result"
    }
   ],
   "source": [
    "net.eval()"
   ]
  },
  {
   "cell_type": "code",
   "execution_count": 30,
   "metadata": {},
   "outputs": [
    {
     "data": {
      "text/plain": [
       "tensor([[ 0.3013, -0.4943],\n",
       "        [ 1.2686,  0.4310],\n",
       "        [-0.3772,  2.0747],\n",
       "        [-0.6059, -0.7574],\n",
       "        [ 1.3811,  0.0971]])"
      ]
     },
     "execution_count": 30,
     "metadata": {},
     "output_type": "execute_result"
    }
   ],
   "source": [
    "net(x)"
   ]
  },
  {
   "cell_type": "code",
   "execution_count": null,
   "metadata": {},
   "outputs": [],
   "source": []
  },
  {
   "cell_type": "markdown",
   "metadata": {},
   "source": [
    "# Augmented dataset refinement"
   ]
  },
  {
   "cell_type": "code",
   "execution_count": 57,
   "metadata": {},
   "outputs": [],
   "source": [
    "aug = pd.read_csv('./sun397_train_lt_with_aug.txt', header=None, sep=' ')\n",
    "\n",
    "num = []\n",
    "\n",
    "for l in aug[1].unique():\n",
    "    num.append(len(aug.loc[aug[1] == l]))\n",
    "\n",
    "fail = []\n",
    "\n",
    "aug.index\n",
    "\n",
    "aug.iloc[0, 0]\n",
    "\n",
    "for ind in range(len(aug)):\n",
    "    \n",
    "    d = aug.iloc[ind, 0]\n",
    "    \n",
    "    if not os.path.isfile(d):\n",
    "        d = d.rsplit('aug', 1)\n",
    "        d = d[0] + '/aug' + d[1]\n",
    "        assert(os.path.isfile(d))\n",
    "        aug.iloc[ind, 0] = d\n",
    "\n",
    "aug.to_csv('./sun397_train_lt_with_aug_new.txt', sep=' ', header=None, index=None)\n",
    "\n",
    "aug = pd.read_csv('./sun397_train_lt_with_aug_new.txt', header=None, sep=' ')\n",
    "\n",
    "for d in aug[0]:\n",
    "    if not os.path.isfile(d):\n",
    "        print(d)"
   ]
  }
 ],
 "metadata": {
  "kernelspec": {
   "display_name": "Python 3",
   "language": "python",
   "name": "python3"
  },
  "language_info": {
   "codemirror_mode": {
    "name": "ipython",
    "version": 3
   },
   "file_extension": ".py",
   "mimetype": "text/x-python",
   "name": "python",
   "nbconvert_exporter": "python",
   "pygments_lexer": "ipython3",
   "version": "3.6.5"
  }
 },
 "nbformat": 4,
 "nbformat_minor": 2
}
