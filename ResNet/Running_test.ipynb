{
 "cells": [
  {
   "cell_type": "code",
   "execution_count": 9,
   "metadata": {},
   "outputs": [],
   "source": [
    "import torch\n",
    "import torch.nn as nn\n",
    "import torch.optim as optim\n",
    "from torch.optim import lr_scheduler\n",
    "import numpy as np\n",
    "import torchvision\n",
    "from torchvision import datasets, models, transforms\n",
    "import matplotlib.pyplot as plt\n",
    "import os\n",
    "import pandas as pd\n",
    "import copy\n",
    "from PIL import Image\n",
    "%matplotlib inline"
   ]
  },
  {
   "cell_type": "code",
   "execution_count": 6,
   "metadata": {},
   "outputs": [],
   "source": [
    "tr = pd.read_csv('./sun397_train_lt.txt', header=None, sep=' ')"
   ]
  },
  {
   "cell_type": "code",
   "execution_count": 7,
   "metadata": {},
   "outputs": [],
   "source": [
    "class_names = {}"
   ]
  },
  {
   "cell_type": "code",
   "execution_count": 8,
   "metadata": {},
   "outputs": [],
   "source": [
    "for lab in tr[1].unique():\n",
    "    temp = tr.loc[tr[1] == lab].iloc[0, 0]\n",
    "    class_name = temp.split('/')[-2]\n",
    "    class_names[lab] = class_name"
   ]
  },
  {
   "cell_type": "code",
   "execution_count": 9,
   "metadata": {},
   "outputs": [],
   "source": [
    "device = torch.device('cuda:0' if torch.cuda.is_available() else 'cpu')"
   ]
  },
  {
   "cell_type": "code",
   "execution_count": 10,
   "metadata": {},
   "outputs": [],
   "source": [
    "#  device = torch.device('cpu')"
   ]
  },
  {
   "cell_type": "code",
   "execution_count": 11,
   "metadata": {},
   "outputs": [],
   "source": [
    "class sun_dataset (torch.utils.data.Dataset):\n",
    "    \n",
    "    def __init__ (self, txt_file, transform=None):\n",
    "        super().__init__()\n",
    "        self.df = pd.read_csv(txt_file, header=None, sep=' ')\n",
    "        self.transform = transform\n",
    "        print('Loading from %s' % txt_file)\n",
    "        \n",
    "    def __len__ (self):\n",
    "        return len(self.df)\n",
    "    \n",
    "    def __getitem__ (self, idx):\n",
    "        \n",
    "        image = Image.open(self.df.iloc[idx, 0])\n",
    "        label = self.df.iloc[idx, 1] - 1\n",
    "        \n",
    "        if self.transform:\n",
    "            image = self.transform(image)\n",
    "            \n",
    "        return image, label\n",
    "\n",
    "def train_model (model, dataloaders, dataset_sizes, batch_size, num_classes, loss_function, \n",
    "                 optimizer, scheduler, num_epochs, device, display_step, log_dir, model_id=None):\n",
    "    \n",
    "    # Deep copy model weights\n",
    "    best_model_weights = copy.deepcopy(model.state_dict())\n",
    "    best_acc = 0.0\n",
    "    \n",
    "    # Start training\n",
    "    training_step = 0\n",
    "    for epoch in range(num_epochs):\n",
    "          \n",
    "        # Loop over training phase and validation phase\n",
    "        for phase in ['train', 'val']:\n",
    "            \n",
    "            # Set model modes and set scheduler\n",
    "            if phase == 'train':\n",
    "                scheduler.step()\n",
    "                model.train()\n",
    "            else:\n",
    "                model.eval()\n",
    "                \n",
    "            running_loss = 0.0\n",
    "            running_correct_total = 0\n",
    "            \n",
    "            class_correct = torch.tensor([0. for i in range(num_classes)])\n",
    "            class_total = torch.tensor([0. for i in range(num_classes)])\n",
    "            \n",
    "            # Iterate over data\n",
    "            for inputs, labels in dataloaders[phase]:\n",
    "                \n",
    "                inputs, labels = inputs.to(device), labels.to(device)\n",
    "                \n",
    "                # Zero parameter gradients\n",
    "                optimizer.zero_grad()\n",
    "                \n",
    "                # Forward\n",
    "                # If on training phase, enable gradients\n",
    "                with torch.set_grad_enabled(phase == 'train'):\n",
    "                    \n",
    "                    logits = model(inputs)\n",
    "                    _, preds = torch.max(logits, 1)\n",
    "                    loss = loss_function(logits, labels)\n",
    "                    \n",
    "                    # Backward if training\n",
    "                    if phase == 'train':\n",
    "                        loss.backward()\n",
    "                        optimizer.step()\n",
    "                        training_step += 1\n",
    "                        \n",
    "                        if training_step % display_step == 0:\n",
    "                            minibatch_loss = loss.item()\n",
    "                            minibatch_acc = (preds == labels).sum().item() / batch_size\n",
    "                            print('Epoch: %d, Step: %5d, Minibatch_loss: %.3f, Minibatch_accuracy_micro: %.3f' \n",
    "                                  % (epoch, training_step, minibatch_loss, minibatch_acc))\n",
    "                        \n",
    "                # Record loss and correct predictions\n",
    "                correct_tensor = (preds == labels).squeeze()\n",
    "                running_loss += loss.item() * inputs.shape[0]\n",
    "                running_correct_total += correct_tensor.sum().item()\n",
    "                \n",
    "                for i in range(len(labels)):\n",
    "                    label = labels[i]\n",
    "                    class_correct[label] += correct_tensor[i].item()\n",
    "                    class_total[label] += 1\n",
    "                \n",
    "            # Epoch loss and accuracieds\n",
    "            epoch_loss = running_loss / dataset_sizes[phase]\n",
    "            epoch_acc_mic = running_correct_total / dataset_sizes[phase]\n",
    "            epoch_acc_mac = (class_correct / class_total).mean().item()\n",
    "            \n",
    "            print('Epoch: %d, Phase: %s, Epoch_loss: %.3f, Epoch_accuracy_micro: %.3f, Epoch_accuracy_macro: %.3f' \n",
    "                  % (epoch, phase, epoch_loss, epoch_acc_mic, epoch_acc_mac))\n",
    "            \n",
    "            # Deep copy the best model weights\n",
    "            if phase == 'val' and epoch_acc_mic > best_acc:\n",
    "                best_acc = epoch_acc_mic\n",
    "                best_model_weights = copy.deepcopy(model.state_dict())\n",
    "                \n",
    "    print()\n",
    "    print('Training Complete.')\n",
    "    print('Best validation accuracy: %.3f' % best_acc)\n",
    "    \n",
    "    # Load the best model weights\n",
    "    model.load_state_dict(best_model_weights)\n",
    "    \n",
    "    # Save the best model\n",
    "    model_states = {'epoch': epoch + 1,\n",
    "                    'state_dict': model.state_dict(),\n",
    "                    'best_acc': best_acc,\n",
    "                    'optimizer' : optimizer.state_dict()}\n",
    "    \n",
    "    torch.save(model_states, os.path.join(log_dir, 'model_%s_checkpoint.pth.tar' % model_id))\n",
    "    \n",
    "    return model\n",
    "\n",
    "class MyResNet (nn.Module):\n",
    "    \n",
    "    def __init__ (self, pretrained_resnet, num_classes, drop_rate):\n",
    "        super().__init__()\n",
    "        self.pretrained_resnet = pretrained_resnet\n",
    "        \n",
    "        # Reset the fc layer\n",
    "        self.num_features = self.pretrained_resnet.fc.in_features\n",
    "        \n",
    "        self.fc_add = nn.Linear(self.num_features, 4096)\n",
    "        self.dropout = nn.Dropout(p=drop_rate)\n",
    "        self.fc = nn.Linear(4096, num_classes)\n",
    "        \n",
    "    def forward(self, x):\n",
    "        x = self.pretrained_resnet.conv1(x)\n",
    "        x = self.pretrained_resnet.bn1(x)\n",
    "        x = self.pretrained_resnet.relu(x)\n",
    "        x = self.pretrained_resnet.maxpool(x)\n",
    "\n",
    "        x = self.pretrained_resnet.layer1(x)\n",
    "        x = self.pretrained_resnet.layer2(x)\n",
    "        x = self.pretrained_resnet.layer3(x)\n",
    "        x = self.pretrained_resnet.layer4(x)\n",
    "\n",
    "        x = self.pretrained_resnet.avgpool(x)\n",
    "        x = x.view(x.size(0), -1)\n",
    "        \n",
    "        x = self.fc_add(x)\n",
    "        x = self.dropout(x)\n",
    "        x = self.fc(x)\n",
    "\n",
    "        return x"
   ]
  },
  {
   "cell_type": "code",
   "execution_count": 16,
   "metadata": {},
   "outputs": [],
   "source": [
    "LOG_DIR = './log'\n",
    "DATASET = 'plain'\n",
    "MODEL_ID = 'test_dropout'\n",
    "DATALOADER_WORKERS = 4\n",
    "LEARNING_RATE = 0.01\n",
    "LR_DECAY_FACTOR = 0.1\n",
    "LR_DECAY_EPOCHS = 10\n",
    "DROPOUT = True\n",
    "DROPOUT_RATE = 0.5\n",
    "MOMENTUM = 0.9\n",
    "EPOCHS = 1\n",
    "BATCH_SIZE = 256\n",
    "DISPLAY_STEP = 10\n",
    "NUM_CLASSES = 397\n",
    "\n",
    "if not os.path.isdir(LOG_DIR):\n",
    "    os.makedirs(LOG_DIR)"
   ]
  },
  {
   "cell_type": "code",
   "execution_count": 17,
   "metadata": {},
   "outputs": [
    {
     "name": "stdout",
     "output_type": "stream",
     "text": [
      "Loading from ./sun397_train_lt.txt\n",
      "Loading from ./sun397_val_lt.txt\n"
     ]
    }
   ],
   "source": [
    "# transforms.RandomResizeCrop(224)\n",
    "data_transforms = {\n",
    "    'train': transforms.Compose([\n",
    "        transforms.RandomCrop(224),\n",
    "        transforms.RandomHorizontalFlip(),\n",
    "        transforms.ToTensor(),\n",
    "        transforms.Normalize([0.485, 0.456, 0.406], [0.229, 0.224, 0.225])\n",
    "    ]),\n",
    "    'val': transforms.Compose([\n",
    "        transforms.CenterCrop(224),\n",
    "        transforms.ToTensor(),\n",
    "        transforms.Normalize([0.485, 0.456, 0.406], [0.229, 0.224, 0.225])\n",
    "    ])\n",
    "}\n",
    "\n",
    "datasets = {x: sun_dataset(txt_file='./sun397_%s_lt.txt' % x, transform=data_transforms[x]) for x in ['train', 'val']} \n",
    "dataloaders = {x: torch.utils.data.DataLoader(datasets[x], batch_size=BATCH_SIZE, shuffle=True, num_workers=DATALOADER_WORKERS) for x in ['train', 'val']}\n",
    "dataset_sizes = {x: len(datasets[x]) for x in ['train', 'val']}"
   ]
  },
  {
   "cell_type": "code",
   "execution_count": 18,
   "metadata": {},
   "outputs": [],
   "source": [
    "# Load pretrained model\n",
    "resnet = torchvision.models.resnet152(pretrained=True)\n",
    "# Freeze all layers\n",
    "for param in resnet.parameters():\n",
    "    param.requires_grad = False"
   ]
  },
  {
   "cell_type": "code",
   "execution_count": 19,
   "metadata": {},
   "outputs": [
    {
     "name": "stdout",
     "output_type": "stream",
     "text": [
      "Model using dropout.\n"
     ]
    }
   ],
   "source": [
    "if DROPOUT:\n",
    "    print('Model using dropout.')\n",
    "    resnet = MyResNet(resnet, NUM_CLASSES, DROPOUT_RATE)\n",
    "    # Optimizer only on the last fc layers\n",
    "    optimizer = optim.SGD(list(resnet.fc.parameters()) + list(resnet.fc_add.parameters()), lr=LEARNING_RATE, momentum=MOMENTUM)\n",
    "else:\n",
    "    print('Model not using dropout.')\n",
    "    # Reset the fc layer\n",
    "    num_features = resnet.fc.in_features\n",
    "    resnet.fc = nn.Linear(num_features, NUM_CLASSES)\n",
    "    # Optimizer only on the last fc layers\n",
    "    optimizer = optim.SGD(list(resnet.fc.parameters()), lr=LEARNING_RATE, momentum=MOMENTUM)"
   ]
  },
  {
   "cell_type": "code",
   "execution_count": 20,
   "metadata": {},
   "outputs": [],
   "source": [
    "resnet = resnet.to(device)\n",
    "\n",
    "# Loss function\n",
    "loss_function = nn.CrossEntropyLoss()\n",
    "\n",
    "# Decay LR by a factor of 0.1 every 30 epochs\n",
    "exp_lr_scheduler = lr_scheduler.StepLR(optimizer, step_size=30, gamma=0.1)"
   ]
  },
  {
   "cell_type": "code",
   "execution_count": 22,
   "metadata": {},
   "outputs": [],
   "source": [
    "# resnet = train_model(model=resnet, loss_function=loss_function, optimizer=optimizer, scheduler=exp_lr_scheduler, num_epochs=EPOCHS, model_id='plain')"
   ]
  },
  {
   "cell_type": "code",
   "execution_count": 23,
   "metadata": {},
   "outputs": [
    {
     "name": "stdout",
     "output_type": "stream",
     "text": [
      "Epoch: 0, Step:    10, Minibatch_loss: 5.357, Minibatch_accuracy_micro: 0.035\n",
      "Epoch: 0, Step:    20, Minibatch_loss: 4.811, Minibatch_accuracy_micro: 0.141\n",
      "Epoch: 0, Step:    30, Minibatch_loss: 4.388, Minibatch_accuracy_micro: 0.238\n",
      "Epoch: 0, Step:    40, Minibatch_loss: 4.291, Minibatch_accuracy_micro: 0.234\n",
      "Epoch: 0, Step:    50, Minibatch_loss: 3.760, Minibatch_accuracy_micro: 0.336\n",
      "Epoch: 0, Step:    60, Minibatch_loss: 3.765, Minibatch_accuracy_micro: 0.324\n",
      "Epoch: 0, Step:    70, Minibatch_loss: 3.594, Minibatch_accuracy_micro: 0.320\n",
      "Epoch: 0, Step:    80, Minibatch_loss: 3.282, Minibatch_accuracy_micro: 0.340\n",
      "Epoch: 0, Step:    90, Minibatch_loss: 3.135, Minibatch_accuracy_micro: 0.402\n",
      "Epoch: 0, Step:   100, Minibatch_loss: 3.098, Minibatch_accuracy_micro: 0.398\n",
      "Epoch: 0, Step:   110, Minibatch_loss: 2.939, Minibatch_accuracy_micro: 0.461\n",
      "Epoch: 0, Step:   120, Minibatch_loss: 2.859, Minibatch_accuracy_micro: 0.418\n",
      "Epoch: 0, Step:   130, Minibatch_loss: 2.870, Minibatch_accuracy_micro: 0.410\n",
      "Epoch: 0, Phase: train, Epoch_loss: 3.772, Epoch_accuracy_micro: 0.309, Epoch_accuracy_macro: 0.087\n",
      "Epoch: 0, Phase: val, Epoch_loss: 2.690, Epoch_accuracy_micro: 0.466, Epoch_accuracy_macro: 0.170\n",
      "\n",
      "Training Complete.\n",
      "Best validation accuracy: 0.466\n"
     ]
    }
   ],
   "source": [
    "resnet = train_model(model=resnet, dataloaders=dataloaders, batch_size=BATCH_SIZE,\n",
    "                     dataset_sizes=dataset_sizes, num_classes=NUM_CLASSES, loss_function=loss_function, \n",
    "                     optimizer=optimizer, scheduler=exp_lr_scheduler, \n",
    "                     device=device, num_epochs=EPOCHS, display_step=DISPLAY_STEP,\n",
    "                     log_dir=LOG_DIR, model_id=MODEL_ID)"
   ]
  },
  {
   "cell_type": "code",
   "execution_count": null,
   "metadata": {},
   "outputs": [],
   "source": []
  },
  {
   "cell_type": "code",
   "execution_count": 14,
   "metadata": {},
   "outputs": [],
   "source": [
    "test_net = torchvision.models.resnet152(pretrained=True)"
   ]
  },
  {
   "cell_type": "code",
   "execution_count": 13,
   "metadata": {},
   "outputs": [],
   "source": [
    "chp = torch.load('./caffe_weights/resnet152.pth')"
   ]
  },
  {
   "cell_type": "code",
   "execution_count": 15,
   "metadata": {},
   "outputs": [],
   "source": [
    "test_net.load_state_dict(chp)"
   ]
  },
  {
   "cell_type": "code",
   "execution_count": 16,
   "metadata": {},
   "outputs": [],
   "source": [
    "a = test_net.fc"
   ]
  },
  {
   "cell_type": "code",
   "execution_count": 17,
   "metadata": {},
   "outputs": [
    {
     "data": {
      "text/plain": [
       "Parameter containing:\n",
       "tensor(1.00000e-02 *\n",
       "       [-1.8705, -0.5983, -0.9736, -1.5920,  0.2419, -0.8889, -0.7266,\n",
       "        -0.1460,  0.8180, -0.0875, -1.0248, -0.3591, -0.9002, -0.8636,\n",
       "        -0.7350, -1.2095,  0.1164, -0.7158,  1.1574, -1.3682,  1.3717,\n",
       "         1.2390, -0.2495, -0.6700, -0.2532, -0.4703,  1.6102, -0.4723,\n",
       "        -0.1432, -0.9543, -0.5554, -0.6315, -1.4545, -1.4822, -0.4582,\n",
       "        -1.5494,  1.6342, -0.4467,  0.4222, -0.5865, -0.0336,  0.2087,\n",
       "         0.5497, -0.5317, -0.4274,  0.6466,  3.1805, -2.1490, -1.2761,\n",
       "        -0.9321, -0.1693, -1.3607,  0.4431,  0.2114,  0.9821,  0.8823,\n",
       "         0.8171, -0.0294,  1.2003,  0.9796,  0.5352,  0.1685, -0.5831,\n",
       "        -0.7089, -0.1443,  0.2638, -0.6020,  0.1478,  1.7113, -0.8856,\n",
       "        -1.3144, -0.0253,  0.4730, -0.8182, -0.6742,  0.2072, -0.9188,\n",
       "         0.7650, -0.1541,  0.1048, -1.4792,  0.7760,  0.6381, -1.3957,\n",
       "        -0.8746,  0.3415, -0.4858,  0.5371, -0.2965,  0.4502,  0.2643,\n",
       "        -0.3152,  0.6166, -0.2046, -0.7672,  0.1521,  0.1577, -0.9199,\n",
       "        -1.5948, -0.2329, -0.4481, -1.1896, -0.1107,  0.1229,  0.6556,\n",
       "        -1.0015, -0.3361, -1.3888, -1.4423, -2.0289, -1.5836, -0.3225,\n",
       "        -0.1244, -0.6086, -0.8345, -1.6776, -1.1130, -0.8681, -0.9000,\n",
       "         0.3265, -0.8942, -1.0814, -1.5461, -0.7424,  1.4241, -0.5322,\n",
       "        -0.3249,  0.9433, -1.4152,  0.1039, -0.5640,  0.3979,  0.1360,\n",
       "        -0.3338,  0.1933, -1.4583,  0.0397, -0.6837, -0.0131, -0.8493,\n",
       "        -1.2656, -0.3404, -2.1238, -1.3956, -0.3039,  0.5596, -0.6196,\n",
       "        -1.4409, -1.5700, -1.9468,  0.1356,  0.4096, -0.5610,  0.1760,\n",
       "        -1.1215,  0.7148, -0.2154, -0.0472, -0.7708, -0.9337, -0.5248,\n",
       "        -0.0700,  1.8741,  0.3869, -0.7539, -1.1065,  0.9534, -0.3974,\n",
       "        -0.1015, -0.9806, -0.4982,  1.1546, -0.2774,  0.4136, -0.2496,\n",
       "        -0.6093, -0.5144, -0.1902,  1.5518, -0.1011, -0.2029, -0.3016,\n",
       "         0.7238, -0.6005,  1.6753,  1.0207,  0.1692, -0.0396,  0.3425,\n",
       "         0.7037, -0.2651,  1.6155,  1.2418,  0.1325, -0.5924,  3.2648,\n",
       "         1.0398,  0.7645, -0.9721,  0.6610, -2.1058,  0.2023,  1.8359,\n",
       "         2.2343,  1.3135, -0.2970, -1.2084,  0.1156,  0.9376,  1.5168,\n",
       "        -1.3094,  0.6023,  1.0058, -0.6524, -0.4761,  0.2750, -0.4766,\n",
       "         1.5998,  0.5803, -0.6675,  1.6625, -0.5785,  1.0329,  1.4978,\n",
       "        -1.1207,  1.7034, -0.5331,  0.4955, -0.7484,  0.4096,  1.4464,\n",
       "         0.0449,  2.2873,  0.3747,  0.8212,  0.0370,  2.3034,  0.3994,\n",
       "         1.3534,  2.0250,  1.1757, -0.7138,  0.1296, -0.9230,  0.8672,\n",
       "         1.4093, -0.3773,  1.0374,  0.9435, -0.4869, -0.0023,  1.7090,\n",
       "        -0.8927, -0.7627,  0.2931, -0.6316,  0.6768, -0.1802,  0.4755,\n",
       "        -0.3005, -0.5948, -0.5018, -0.0933, -0.1140, -0.9401, -1.0471,\n",
       "         0.0220, -0.0083, -1.1801, -0.4522,  1.0007,  0.0177,  0.5729,\n",
       "         1.5162, -0.8437, -0.9650,  0.3057, -0.3119, -1.2991,  0.3205,\n",
       "        -0.7766,  1.0206, -0.4760, -1.4362,  1.0698,  1.1997, -0.8908,\n",
       "        -0.3068, -0.8367,  0.1337, -0.2343, -1.3335, -0.3754, -0.5469,\n",
       "        -0.4869, -0.6145, -0.4677, -0.8695, -0.3175,  1.3289, -0.1301,\n",
       "         0.4931, -1.1173,  0.4793, -0.3970,  0.6738,  1.6092, -0.1657,\n",
       "        -0.1722,  0.0344,  0.0354, -0.6470, -0.1193,  1.6490,  0.9838,\n",
       "         0.3324, -0.0315, -0.8525, -0.7081,  0.3625, -1.2609, -1.3542,\n",
       "        -1.6941, -1.3439, -0.9160, -0.7384, -0.7156, -0.4199, -0.9373,\n",
       "        -0.7552, -1.0067, -0.8969, -0.3470,  0.3910, -0.8251, -0.3472,\n",
       "         1.3118, -0.6612, -0.7994, -1.8447,  0.2433, -1.7357,  0.5631,\n",
       "         0.3928, -0.6034, -0.8804,  0.9807,  0.0694,  1.3292, -0.4315,\n",
       "        -0.5780, -1.4685,  0.4635,  0.1552, -0.3240,  0.1982,  0.1473,\n",
       "        -0.0878,  0.8958,  0.0266, -0.1640,  0.0928, -0.2975, -0.3249,\n",
       "        -0.9939, -0.2207, -0.6921,  0.2507, -0.2583,  0.7996,  0.0978,\n",
       "        -0.5968, -0.9289,  0.3441, -0.4208, -0.4943, -0.4545,  0.2101,\n",
       "        -0.2740,  0.9908, -0.5149, -0.7434,  0.0584,  0.8942, -1.2748,\n",
       "        -1.2446,  0.0096, -0.9719, -0.4570, -0.5770, -0.3157,  1.0926,\n",
       "        -1.6930, -1.7934, -0.6286, -1.5841, -1.3498, -1.0201,  0.4652,\n",
       "         0.3859, -0.6002,  1.4910, -0.4053, -0.9477, -1.8667,  0.5827,\n",
       "         0.2619,  0.6562, -1.8853,  1.0049,  0.3035, -0.5746,  0.4758,\n",
       "         1.0543,  0.1742,  0.2207,  0.3054, -0.5659, -0.4560, -0.0321,\n",
       "        -0.8248,  0.0178,  0.9186,  1.8609,  0.7965, -0.8821, -1.1339,\n",
       "        -1.7356,  1.8077,  0.8675, -0.1863, -0.0115,  0.7275,  0.6320,\n",
       "         0.9019, -0.6569,  0.5527,  0.2781, -0.5375, -0.1193,  0.5737,\n",
       "         0.9020,  0.4320, -1.7300, -0.0397,  1.5819,  0.1899,  0.1098,\n",
       "         1.3106, -0.4476, -0.4838, -0.2924, -0.1718, -0.2851,  1.0472,\n",
       "         1.4331,  0.8804,  1.7930, -0.7967, -0.3882,  0.9781, -0.6396,\n",
       "         0.0893,  1.5216,  1.0457,  0.1833, -0.6858,  0.9552,  1.0712,\n",
       "        -0.2088,  1.9529,  0.8491,  0.7512,  0.4114, -1.1398, -0.1224,\n",
       "        -1.3268, -0.1985, -0.0979,  0.8950,  0.9660, -0.4131, -0.6598,\n",
       "        -0.3389, -0.2414, -0.2558,  0.5137,  1.0172,  1.3068, -0.3909,\n",
       "        -1.5018,  1.1843,  0.1217, -0.5028,  0.3641, -0.1763, -0.9709,\n",
       "        -0.8829,  0.3002,  0.5484, -1.3336, -0.3321, -0.5639, -1.5618,\n",
       "         1.0840,  0.2336,  0.2804, -0.9186,  0.9399, -0.7609, -1.0045,\n",
       "         0.5411, -0.3298, -0.0021, -0.0519,  1.7788,  0.7208, -0.2569,\n",
       "         0.0369, -0.0118, -0.6690,  0.1571,  0.6903,  3.0587, -0.6935,\n",
       "        -1.3136,  0.9502,  1.2972,  0.0921,  0.0781, -0.3823, -0.2063,\n",
       "         1.0134, -0.8649,  0.5354, -0.4657,  1.4139,  0.6284, -0.9630,\n",
       "         1.4944, -2.4573,  0.5272, -0.4105,  1.4365, -0.4131, -0.4657,\n",
       "        -0.1750, -0.7097, -1.1393, -0.8807,  0.3802,  0.0185,  0.3119,\n",
       "        -0.4248,  0.2266, -0.2148, -0.6501,  0.9307,  1.2170, -0.0187,\n",
       "        -1.2611,  0.1560, -0.3723,  0.3006, -0.7466, -0.9116,  0.4812,\n",
       "         0.9338,  0.1939, -1.2333, -0.6032,  0.1379,  0.5573, -0.4289,\n",
       "        -0.3217,  1.0684, -0.1665,  0.4870, -0.5774,  1.0817,  0.0617,\n",
       "        -0.0776,  1.1997, -1.0080, -0.3194, -0.4153, -1.6952,  0.6406,\n",
       "        -0.1381,  0.7658, -0.1987, -0.5063, -1.1136,  0.6650,  0.1572,\n",
       "        -1.2982, -0.1471, -0.0385, -0.7439, -0.2344,  1.1613,  0.2118,\n",
       "         0.1878,  0.7874,  0.5042,  0.8796, -0.4904,  0.1183,  0.8258,\n",
       "        -0.3587,  0.4204, -0.1453, -0.3103,  0.3653,  0.3401, -0.0316,\n",
       "         0.0038,  0.2383,  1.2639, -1.0842,  1.0662,  0.4680,  2.4408,\n",
       "         2.0730,  1.0776, -0.1247,  1.9492,  0.6489,  0.0613, -0.0269,\n",
       "        -0.6548, -0.7136,  0.6061, -0.4205, -1.2374, -0.2509,  0.3543,\n",
       "         0.2241,  0.7412, -1.5159, -1.1417, -0.1409,  0.9906,  0.6443,\n",
       "         0.6801, -1.0557,  1.1123, -1.1364, -0.4714,  0.5526,  2.8630,\n",
       "         0.2697,  1.1531,  1.0271,  0.3169,  1.7801,  0.7891,  1.3012,\n",
       "        -0.8717,  0.3536, -0.1009, -0.2471,  1.7704, -0.0819,  1.3505,\n",
       "         0.7688,  0.6494,  0.1482, -1.1823, -2.4838,  0.0062,  1.2656,\n",
       "         1.3931,  2.1028,  0.4717, -1.4242,  0.8936, -0.1272,  0.4048,\n",
       "        -0.5053,  0.3102,  0.4461,  0.3415,  1.4659,  0.1202, -0.9777,\n",
       "        -0.2416, -2.2944, -1.3700, -1.4237, -0.4693, -0.0548,  1.4769,\n",
       "        -0.5619, -1.5910,  0.6535,  0.2948, -1.1250, -1.2607, -0.8135,\n",
       "         1.0499,  0.9610, -0.5218,  0.9713,  1.7054, -0.4353,  1.1817,\n",
       "        -0.4088,  0.0086,  0.1269, -0.4655,  0.6233, -1.3006,  0.5067,\n",
       "         0.0248, -1.0395,  2.0445, -1.2919,  0.2104,  0.9070,  0.1865,\n",
       "         1.2902,  3.0232, -0.2642, -0.6517, -0.7952, -0.6213, -0.9121,\n",
       "        -0.8098,  0.2530,  0.4237,  2.3185,  0.6324,  0.9553, -0.4713,\n",
       "        -0.1727,  0.5107,  0.1371,  1.6388,  0.0967, -0.2139, -1.0342,\n",
       "         0.1429,  1.0550,  1.5211,  0.6417, -1.3277,  0.4852, -0.8088,\n",
       "         2.8840,  0.1590, -0.7053,  1.4575,  0.3603,  1.4743, -1.1490,\n",
       "         0.9473,  0.0218,  0.7743,  0.1992,  0.3245,  1.1573,  0.9479,\n",
       "        -0.3300, -0.1614, -0.0910, -0.9791, -0.2277,  0.5054,  2.1871,\n",
       "        -0.8394, -0.1261, -0.1927,  0.9119,  0.3413,  0.3332,  1.2544,\n",
       "        -0.3210,  1.4102, -0.8042, -0.8481, -1.2901,  0.5097,  0.5118,\n",
       "        -0.1458,  0.3203, -0.2504, -0.8174,  0.8615, -0.5539, -1.4372,\n",
       "         1.7599,  1.2854,  0.7352, -2.4200, -1.1273,  0.3735, -0.4614,\n",
       "        -0.7527,  1.4502, -1.5010,  0.6679, -0.8818, -1.1825, -0.0058,\n",
       "         1.5379, -0.4658, -0.6781,  1.1674,  0.0188, -0.7622,  0.6306,\n",
       "        -1.0400,  2.0944, -1.6143, -0.3439,  0.5833, -0.5183,  0.7838,\n",
       "         1.3323, -1.1020, -1.4553,  0.2956,  0.5612,  0.0407, -0.1509,\n",
       "         0.4302, -0.7632,  0.6702, -1.0567,  0.2931, -0.5138, -0.2113,\n",
       "         0.2214,  1.1875,  0.4242, -0.3169,  1.9688,  1.7304, -0.3875,\n",
       "         1.0492,  0.1527, -0.1574,  0.3486, -0.1813,  1.8763,  1.0047,\n",
       "        -0.1720,  0.5353,  0.3910,  2.1061, -0.4422,  0.6529, -1.0692,\n",
       "        -1.8390, -0.0258, -1.5391, -0.2243, -0.3675,  0.3310, -0.2978,\n",
       "         1.1707, -0.7884, -0.3322, -0.6541, -0.4741, -0.4059,  0.1163,\n",
       "         1.3176, -0.7403,  0.1161, -0.9169,  1.7066, -0.8864, -2.3562,\n",
       "         0.9447,  1.2963,  0.5438, -1.0953,  3.9009,  2.5783, -0.5683,\n",
       "         1.4563,  0.1606, -0.1406,  0.0350, -1.1077, -0.8030,  0.2049,\n",
       "         0.7642,  0.1386, -1.6496,  1.0693, -0.3273, -0.2862,  0.0162,\n",
       "         0.4219,  2.0387,  1.8940,  0.8678, -0.4660, -0.5868,  2.0122,\n",
       "         0.0243, -0.4222, -1.2108, -0.2349,  1.1198,  0.1127,  0.0255,\n",
       "         2.0078,  0.1641,  0.6771,  0.5559, -0.8964, -0.4325, -1.2355,\n",
       "        -1.0478,  0.6110,  0.7554,  1.1501,  0.3631, -0.9579,  2.1625,\n",
       "        -1.2934, -1.2951, -0.8902,  0.0063, -0.1186,  2.4354,  0.2596,\n",
       "        -1.1366,  0.1413, -1.3970,  0.8379, -0.0625, -0.2232, -0.8623,\n",
       "        -0.5445, -0.5546, -0.5276, -1.1919, -0.5564, -0.4207,  0.0192,\n",
       "        -0.9261, -0.4057, -1.3834,  0.2721,  0.5299,  0.9154,  0.6544,\n",
       "        -0.6327, -0.1131,  0.7272, -0.8509, -1.1083, -0.4254,  0.7313,\n",
       "        -1.5951, -0.4201, -0.3196, -1.1049, -0.9872, -1.1159, -0.0414,\n",
       "         1.0943,  1.2355,  0.8639,  0.8364,  0.2948,  1.2143,  0.0252,\n",
       "         0.8273, -0.8057, -0.5312,  0.1257,  2.1610,  1.5105, -1.7443,\n",
       "         0.2981, -0.9063,  2.3367,  0.3179,  1.0544, -0.6588, -0.7047,\n",
       "         0.6120, -0.0515,  0.4784,  0.0344, -0.5531, -0.3400, -2.3164,\n",
       "        -0.3968,  0.2733, -0.1376, -1.5591,  0.0743,  1.0363])"
      ]
     },
     "execution_count": 17,
     "metadata": {},
     "output_type": "execute_result"
    }
   ],
   "source": [
    "a.bias"
   ]
  },
  {
   "cell_type": "code",
   "execution_count": null,
   "metadata": {},
   "outputs": [],
   "source": []
  },
  {
   "cell_type": "code",
   "execution_count": null,
   "metadata": {},
   "outputs": [],
   "source": []
  },
  {
   "cell_type": "markdown",
   "metadata": {},
   "source": [
    "# Dropout test"
   ]
  },
  {
   "cell_type": "code",
   "execution_count": 3,
   "metadata": {},
   "outputs": [],
   "source": [
    "class test_net (nn.Module):\n",
    "    \n",
    "    def __init__ (self):\n",
    "        super().__init__()\n",
    "        self.dropout = nn.Dropout(0.5)\n",
    "    \n",
    "    def forward(self, x):\n",
    "        x = self.dropout(x)\n",
    "        return x"
   ]
  },
  {
   "cell_type": "code",
   "execution_count": 9,
   "metadata": {},
   "outputs": [],
   "source": [
    "net = test_net()"
   ]
  },
  {
   "cell_type": "code",
   "execution_count": 10,
   "metadata": {},
   "outputs": [],
   "source": [
    "x = torch.randn(5, 2)"
   ]
  },
  {
   "cell_type": "code",
   "execution_count": 21,
   "metadata": {},
   "outputs": [
    {
     "data": {
      "text/plain": [
       "tensor([[ 0.3013, -0.4943],\n",
       "        [ 1.2686,  0.4310],\n",
       "        [-0.3772,  2.0747],\n",
       "        [-0.6059, -0.7574],\n",
       "        [ 1.3811,  0.0971]])"
      ]
     },
     "execution_count": 21,
     "metadata": {},
     "output_type": "execute_result"
    }
   ],
   "source": [
    "x"
   ]
  },
  {
   "cell_type": "code",
   "execution_count": 28,
   "metadata": {},
   "outputs": [
    {
     "data": {
      "text/plain": [
       "test_net(\n",
       "  (dropout): Dropout(p=0.5)\n",
       ")"
      ]
     },
     "execution_count": 28,
     "metadata": {},
     "output_type": "execute_result"
    }
   ],
   "source": [
    "net.eval()"
   ]
  },
  {
   "cell_type": "code",
   "execution_count": 30,
   "metadata": {},
   "outputs": [
    {
     "data": {
      "text/plain": [
       "tensor([[ 0.3013, -0.4943],\n",
       "        [ 1.2686,  0.4310],\n",
       "        [-0.3772,  2.0747],\n",
       "        [-0.6059, -0.7574],\n",
       "        [ 1.3811,  0.0971]])"
      ]
     },
     "execution_count": 30,
     "metadata": {},
     "output_type": "execute_result"
    }
   ],
   "source": [
    "net(x)"
   ]
  },
  {
   "cell_type": "code",
   "execution_count": null,
   "metadata": {},
   "outputs": [],
   "source": []
  },
  {
   "cell_type": "markdown",
   "metadata": {},
   "source": [
    "# Augmented dataset refinement"
   ]
  },
  {
   "cell_type": "code",
   "execution_count": 57,
   "metadata": {},
   "outputs": [],
   "source": [
    "aug = pd.read_csv('./sun397_train_lt_with_aug.txt', header=None, sep=' ')\n",
    "\n",
    "num = []\n",
    "\n",
    "for l in aug[1].unique():\n",
    "    num.append(len(aug.loc[aug[1] == l]))\n",
    "\n",
    "fail = []\n",
    "\n",
    "aug.index\n",
    "\n",
    "aug.iloc[0, 0]\n",
    "\n",
    "for ind in range(len(aug)):\n",
    "    \n",
    "    d = aug.iloc[ind, 0]\n",
    "    \n",
    "    if not os.path.isfile(d):\n",
    "        d = d.rsplit('aug', 1)\n",
    "        d = d[0] + '/aug' + d[1]\n",
    "        assert(os.path.isfile(d))\n",
    "        aug.iloc[ind, 0] = d\n",
    "\n",
    "aug.to_csv('./sun397_train_lt_with_aug_new.txt', sep=' ', header=None, index=None)\n",
    "\n",
    "aug = pd.read_csv('./sun397_train_lt_with_aug_new.txt', header=None, sep=' ')\n",
    "\n",
    "for d in aug[0]:\n",
    "    if not os.path.isfile(d):\n",
    "        print(d)"
   ]
  },
  {
   "cell_type": "markdown",
   "metadata": {},
   "source": [
    "# Combined dataset"
   ]
  },
  {
   "cell_type": "code",
   "execution_count": 1,
   "metadata": {},
   "outputs": [],
   "source": [
    "import pandas as pd"
   ]
  },
  {
   "cell_type": "code",
   "execution_count": 2,
   "metadata": {},
   "outputs": [],
   "source": [
    "tr = pd.read_csv('./aug_txt/sun397_train_lt.txt', header=None, sep=' ')\n",
    "val = pd.read_csv('./combine_aug_txt/sun397_val_lt.txt', header=None, sep=' ')"
   ]
  },
  {
   "cell_type": "code",
   "execution_count": 3,
   "metadata": {},
   "outputs": [
    {
     "data": {
      "text/plain": [
       "41333"
      ]
     },
     "execution_count": 3,
     "metadata": {},
     "output_type": "execute_result"
    }
   ],
   "source": [
    "len(tr)"
   ]
  },
  {
   "cell_type": "code",
   "execution_count": 4,
   "metadata": {},
   "outputs": [
    {
     "data": {
      "text/plain": [
       "20944"
      ]
     },
     "execution_count": 4,
     "metadata": {},
     "output_type": "execute_result"
    }
   ],
   "source": [
    "len(val)"
   ]
  },
  {
   "cell_type": "code",
   "execution_count": 5,
   "metadata": {},
   "outputs": [],
   "source": [
    "comb = pd.concat((tr, val))"
   ]
  },
  {
   "cell_type": "code",
   "execution_count": 6,
   "metadata": {},
   "outputs": [],
   "source": [
    "comb.to_csv('./combine_aug_txt/sun397_train_lt.txt', header=None, sep=' ', index=False)"
   ]
  },
  {
   "cell_type": "code",
   "execution_count": 7,
   "metadata": {},
   "outputs": [
    {
     "data": {
      "text/plain": [
       "62277"
      ]
     },
     "execution_count": 7,
     "metadata": {},
     "output_type": "execute_result"
    }
   ],
   "source": [
    "len(comb)"
   ]
  },
  {
   "cell_type": "code",
   "execution_count": null,
   "metadata": {},
   "outputs": [],
   "source": [
    "python ResNet_SUN397.py --dataset aug --epoch 150 --model_id aug_base_lr_100_ep_150_caffe_drop_0.5_dim_4096 --decay_epoch 100 --caffe_weights True --dropout True --dropout_rate 0.5 --fc_add_dim 4096"
   ]
  }
 ],
 "metadata": {
  "kernelspec": {
   "display_name": "Python 3",
   "language": "python",
   "name": "python3"
  },
  "language_info": {
   "codemirror_mode": {
    "name": "ipython",
    "version": 3
   },
   "file_extension": ".py",
   "mimetype": "text/x-python",
   "name": "python",
   "nbconvert_exporter": "python",
   "pygments_lexer": "ipython3",
   "version": "3.6.5"
  }
 },
 "nbformat": 4,
 "nbformat_minor": 2
}
